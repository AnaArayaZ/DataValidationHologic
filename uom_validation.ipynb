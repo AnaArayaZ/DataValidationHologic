{
 "cells": [
  {
   "cell_type": "markdown",
   "metadata": {},
   "source": [
    "### CUADERNO PARA LIMPIAR LOS DATOS"
   ]
  },
  {
   "cell_type": "code",
   "execution_count": 1,
   "metadata": {},
   "outputs": [],
   "source": [
    "import pandas as pd"
   ]
  },
  {
   "cell_type": "code",
   "execution_count": 25,
   "metadata": {},
   "outputs": [],
   "source": [
    "def hola_personita(nombre, mensaje=\"\", fecha =\"\"):\n",
    "    print(f\"Hola {nombre}: {mensaje} el dia de hoy {fecha}\")"
   ]
  },
  {
   "cell_type": "code",
   "execution_count": 30,
   "metadata": {},
   "outputs": [
    {
     "name": "stdout",
     "output_type": "stream",
     "text": [
      "Hola Ana: Te amo mucho el dia de hoy 2020-10-01\n"
     ]
    }
   ],
   "source": [
    "nombre_de_la_persona_que_me_gusta = \"Ana\"\n",
    "hola_personita(nombre=nombre_de_la_persona_que_me_gusta, fecha= \"2020-10-01\", mensaje=\"Te amo mucho\")"
   ]
  },
  {
   "cell_type": "code",
   "execution_count": 40,
   "metadata": {},
   "outputs": [
    {
     "name": "stdout",
     "output_type": "stream",
     "text": [
      "Index(['ORG CODE', 'ITEM', 'ITEM_DESCRIPTION', 'TEST COUNT', 'PACKING COUNT',\n",
      "       'CATEGORY SET NAME', 'Item_Categories.CATEGORY_CONCAT_SEGS',\n",
      "       'CONTROL LEVEL DISP', 'PLANNING MAKE BUY CODE', 'Weight UOM',\n",
      "       'Unit Weight', 'Volume UOM', 'Unit Volume', 'Dimensions UOM',\n",
      "       'UN Number ID', 'Hazard Class', 'Item Last Update Date',\n",
      "       'system_items_b.CREATION_DATE', 'Last Updated by User', 'Primary UOM',\n",
      "       'User Item Type', 'Shelf Life Days', 'Lot Expiration Control',\n",
      "       'Retest Interval', 'Expiration Action Interval', 'Expiration Action',\n",
      "       'Lot Control', 'Starting Lot Number', 'Starting Lot Prefix',\n",
      "       'Maturity Days', 'Hold Days', 'Serial Generation',\n",
      "       'Starting Serial Prefix', 'system_items_b.PLANNER_CODE', 'Unit Length',\n",
      "       'Unit Width', 'Unit Height'],\n",
      "      dtype='object')\n"
     ]
    }
   ],
   "source": [
    "qliksense_file = \"qliksense_uom_hologic.xlsx\"\n",
    "dataframe_sucio = pd.read_excel(qliksense_file)\n",
    "print(dataframe_sucio.columns)\n",
    "\n"
   ]
  },
  {
   "cell_type": "code",
   "execution_count": 85,
   "metadata": {},
   "outputs": [],
   "source": [
    "dataframe_con_columnas_importantes = dataframe_sucio[['ITEM','Weight UOM',\n",
    "       'Unit Weight', 'Volume UOM', 'Unit Volume', 'Dimensions UOM','Unit Length',\n",
    "       'Unit Width', 'Unit Height']]"
   ]
  },
  {
   "cell_type": "code",
   "execution_count": 86,
   "metadata": {},
   "outputs": [],
   "source": [
    "hologic_file = \"sku_uom_hologic.xlsx\"\n",
    "dataframe_hologic = pd.read_excel(hologic_file)\n",
    "dataframe_hologic['Item Number'] = dataframe_hologic['Item Number'].astype(str)\n"
   ]
  },
  {
   "cell_type": "code",
   "execution_count": 87,
   "metadata": {},
   "outputs": [],
   "source": [
    "dataframe_resultante = dataframe_con_columnas_importantes[dataframe_con_columnas_importantes['ITEM'].isin(dataframe_hologic['Item Number'])]\n"
   ]
  },
  {
   "cell_type": "markdown",
   "metadata": {},
   "source": [
    "##### VERIFICAR QUE TODOS LOS ITEMS DE HOLOGIC ESTAN EN EL DE QLIKSENSE"
   ]
  },
  {
   "cell_type": "code",
   "execution_count": 88,
   "metadata": {},
   "outputs": [
    {
     "name": "stdout",
     "output_type": "stream",
     "text": [
      "Empty DataFrame\n",
      "Columns: [Item Number, Item Description, Item Type, Primary Unit Of Measure, Packing Count, Unit Height, Unit Length, Unit Volume, Unit Weight, Unit Width, Weight Uom Code, Volume Uom Code, Dimension Uom Code, Shelf Life Code, Shelf Life Days, Lot Control Code, Serial Number Control Code, Un Number Id, Hazard Class Id, Country of Origin, HTS US, Intrastat Code, Dangerous Goods Indicator, Shipping Condition, Storage Condition, ECCN US, Unused Item Retention, Used Item Retention, Cargo Type, GTIN]\n",
      "Index: []\n",
      "\n",
      "[0 rows x 30 columns]\n"
     ]
    }
   ],
   "source": [
    "df = dataframe_hologic[~dataframe_hologic['Item Number'].isin(dataframe_resultante['ITEM'])]\n",
    "print(df)"
   ]
  },
  {
   "cell_type": "code",
   "execution_count": 91,
   "metadata": {},
   "outputs": [
    {
     "name": "stdout",
     "output_type": "stream",
     "text": [
      "Index(['CLIENT_ID', 'SKU_ID', 'EAN', 'UPC', 'DESCRIPTION', 'PRODUCT_GROUP',\n",
      "       'EACH_HEIGHT (m)', 'EACH_WEIGHT (kg)', 'EACH_VOLUME (m3)', 'EACH_VALUE',\n",
      "       ...\n",
      "       'CE_COMMERCIAL_DESC', 'SERIAL_NO_OUTBOUND', 'FULL_PALLET_AT_RECEIPT',\n",
      "       'ALWAYS_FULL_PALLET', 'SUB_WITHIN_PRODUCT_GRP', 'SERIAL_CHECK_STRING',\n",
      "       'CARRIER_PRODUCT_TYPE', 'UPLOADED_WS2PC_ID', 'MAX_PACK_CONFIGS',\n",
      "       'PARCEL_PACKING_BY_PIECE'],\n",
      "      dtype='object', length=191)\n"
     ]
    }
   ],
   "source": [
    "dsv_file = \"sku_uom_dsv.xlsx\"\n",
    "dataframe_dsv = pd.read_excel(dsv_file)\n",
    "print(dataframe_dsv.columns)\n"
   ]
  },
  {
   "cell_type": "code",
   "execution_count": 93,
   "metadata": {},
   "outputs": [],
   "source": [
    "dataframe_dsv_columnas_importantes = dataframe_dsv [\n",
    "                    ['SKU_ID',\n",
    "                     'EACH_HEIGHT (m)', \n",
    "                     'EACH_WEIGHT (kg)',\n",
    "                     'EACH_VOLUME (m3)',\n",
    "                     'EACH_WIDTH (m)','EACH_DEPTH (m)'\n",
    "\n",
    "]]"
   ]
  },
  {
   "cell_type": "code",
   "execution_count": null,
   "metadata": {},
   "outputs": [],
   "source": [
    "dataframe_dsv_columnas_importantes.rename(columns={'SKU_ID':'ITEM', })"
   ]
  },
  {
   "cell_type": "code",
   "execution_count": null,
   "metadata": {},
   "outputs": [],
   "source": [
    "df"
   ]
  }
 ],
 "metadata": {
  "kernelspec": {
   "display_name": "Python 3",
   "language": "python",
   "name": "python3"
  },
  "language_info": {
   "codemirror_mode": {
    "name": "ipython",
    "version": 3
   },
   "file_extension": ".py",
   "mimetype": "text/x-python",
   "name": "python",
   "nbconvert_exporter": "python",
   "pygments_lexer": "ipython3",
   "version": "3.11.9"
  }
 },
 "nbformat": 4,
 "nbformat_minor": 2
}
